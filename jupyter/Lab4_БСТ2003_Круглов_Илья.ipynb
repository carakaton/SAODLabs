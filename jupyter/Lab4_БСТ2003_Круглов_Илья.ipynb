{
  "metadata": {
    "colab": {
      "name": "Lab5.ipynb",
      "provenance": [],
      "collapsed_sections": []
    },
    "kernelspec": {
      "name": "python",
      "display_name": "Pyolite",
      "language": "python"
    },
    "language_info": {
      "codemirror_mode": {
        "name": "python",
        "version": 3
      },
      "file_extension": ".py",
      "mimetype": "text/x-python",
      "name": "python",
      "nbconvert_exporter": "python",
      "pygments_lexer": "ipython3",
      "version": "3.8"
    }
  },
  "nbformat_minor": 4,
  "nbformat": 4,
  "cells": [
    {
      "cell_type": "markdown",
      "source": "# Лабораторная работа №4",
      "metadata": {
        "id": "WPvB9TcMmKA6"
      }
    },
    {
      "cell_type": "markdown",
      "source": "## Выполнил студент группы БСТ2003 Круглов Илья\n***",
      "metadata": {
        "id": "96Gi_LEvmSVH"
      }
    },
    {
      "cell_type": "markdown",
      "source": "### Задание №0\nРеализовать следующие структуры данных:\n\n- Стек (stack): \nОперации для стека: инициализация, проверка на пустоту, добавление нового элемента в начало, извлечение элемента из начала;\n\n- Дек (двусторонняя очередь, deque): \nОперации для дека: инициализация, проверка на пустоту, добавление нового элемента в начало, добавление нового элемента в конец, извлечение элемента из начала, извлечение элемента из конца.",
      "metadata": {
        "id": "4clYOyb0mbEv"
      }
    },
    {
      "cell_type": "code",
      "source": "# Реализация структуры данных \"Стек\"\nclass Stack:\n    \n    # Инициализация стека\n    def __init__(self):\n        self.data = [None] * 0       \n\n    # Значение пустой ли стек\n    def is_empty(self) -> bool:\n        return True if len(self.data) == 0 else False\n\n    # Добавление нового элемента в стек\n    def push(self, element):\n        length = len(self.data)\n        data = [None] * (length + 1)\n        for i in range(length):\n            data[i] = self.data[i]\n        data[-1] = element\n        self.data = data\n\n    # Извлечение последнего элемента из стека\n    def pop(self):\n        length = len(self.data) - 1\n        data = [None] * length\n        popped = self.data[-1]\n        for i in range(length):\n            data[i] = self.data[i]\n        self.data = data\n        return popped\n    \n    # Получение последнего элемента в стеке\n    def peek(self):\n        if len(self.data) > 0:\n            return self.data[-1]\n        else:\n            return None\n\n    # Вывод элементов стека в консоль\n    def display(self):\n        print(self.data)\n\n    # Значение количества элементов в стеке\n    def __len__(self) -> int:\n        return len(self.data)\n",
      "metadata": {
        "id": "681a95mZnOSa",
        "trusted": true
      },
      "execution_count": null,
      "outputs": []
    },
    {
      "cell_type": "code",
      "source": "# Реализация структуры данных \"Дек\"\nclass Deque:\n    \n    # Инициализация дека\n    def __init__(self):\n        self.data = [None] * 0\n\n    # Значение пустой ли дек\n    def is_empty(self) -> bool:\n        return True if len(self.data) == 0 else False\n\n    # Добавление нового элемента в конец дека\n    def push(self, element):\n        length = len(self.data)\n        data = [None] * (length + 1)\n        for i in range(length):\n            data[i] = self.data[i]\n        data[-1] = element\n        self.data = data\n\n    # Извлечение последнего элемента из дека\n    def pop(self):\n        length = len(self.data) - 1\n        data = [None] * length\n        popped = self.data[-1]\n        for i in range(length):\n            data[i] = self.data[i]\n        self.data = data\n        return popped\n\n    # Получение последнего элемента в деке\n    def peek(self):\n        if len(self.data) > 0:\n            return self.data[-1]\n        else:\n            return None\n\n    # Добавление нового элемента в начало дека\n    def push_left(self, element):\n        length = len(self.data)\n        data = [None] * (length + 1)\n        for i in range(length):\n            data[i+1] = self.data[i]\n        data[0] = element\n        self.data = data\n\n    # Извлечение первого элемента из дека\n    def pop_left(self):\n        length = len(self.data) - 1\n        data = [None] * length\n        popped = self.data[0]\n        for i in range(length):\n            data[i] = self.data[i+1]\n        self.data = data\n        return popped\n\n    # Получение первого элемента в деке\n    def peek_left(self):\n        if len(self.data) > 0:\n            return self.data[0]\n        else:\n            return None\n\n    # Вывод элементов дека в консоль\n    def display(self):\n        print(self.data)\n\n    # Значение количества элементов в деке\n    def __len__(self) -> int:\n        return len(self.data)\n",
      "metadata": {
        "trusted": true
      },
      "execution_count": null,
      "outputs": []
    },
    {
      "cell_type": "markdown",
      "source": "### Задание №1\n\nОтсортировать строки файла, содержащие названия книг, в алфавитном порядке с использованием двух деков.",
      "metadata": {
        "id": "Wggfn8l7nG72"
      }
    },
    {
      "cell_type": "code",
      "source": "deque_1, deque_2 = Deque(), Deque()\n\n# Чтение и вывод оригинального списка\nwith open('lab_4_files/books.txt') as books:\n    for book in books:\n        print(book.rstrip())\n        deque_1.push(book.rstrip())\n    print()\n\n# Сортировка\nwhile not deque_1.is_empty():\n    element = deque_1.pop()\n    while not deque_2.is_empty() and deque_2.peek() < element:\n        deque_1.push_left(deque_2.pop())\n    deque_2.push(element)\n\n# Вывод отсортированного списка\nwhile not deque_2.is_empty():\n    print(deque_2.pop())\n",
      "metadata": {
        "trusted": true
      },
      "execution_count": null,
      "outputs": []
    },
    {
      "cell_type": "raw",
      "source": "Волчья тропа\nБорщевой конвой\nДневной ужин\nГлавный генерал\nАрбузные острова\n\nАрбузные острова\nБорщевой конвой\nВолчья тропа\nГлавный генерал\nДневной ужин",
      "metadata": {}
    },
    {
      "cell_type": "markdown",
      "source": "### Задание №2\n\nДек содержит последовательность символов для шифровки сообщений. Дан текстовый файл, содержащий зашифрованное сообщение. Пользуясь деком, расшифровать текст. Известно, что при шифровке каждый символ сообщения заменялся следующим за ним в деке по часовой стрелке через один.",
      "metadata": {
        "id": "Wggfn8l7nG72"
      }
    },
    {
      "cell_type": "code",
      "source": "# Кодирование символа\ndef encode(symbol) -> chr:\n    if ring.find(symbol) != -1:\n        while True:\n            if coding.peek_left() == symbol:\n                coding.push(coding.pop_left())\n                coding.push(coding.pop_left())\n                return coding.peek_left()\n            coding.push(coding.pop_left())\n    return symbol\n\n# Декодирование символа\ndef decode(symbol) -> chr:\n    if ring.find(symbol) != -1:\n        while True:\n            if coding.peek() == symbol:\n                coding.push_left(coding.pop())\n                coding.push_left(coding.pop())\n                return coding.peek()\n            coding.push_left(coding.pop())\n    return symbol\n\n# Создание дека с последовательностью всех символов\nring = 'абвгдеёжзийклмнопрстуфхцчшщъыьэюя'\ncoding = Deque()\nfor char in ring:\n    coding.push(char)\n\n# Чтение и декодирование текста\nencoded_text, decoded_text = '', ''\nwith open('lab_4_files/encoded_text.txt') as text:\n    for char in text.read():\n        encoded_text += char\n        decoded_text += decode(char)\n\n# Вывод изначального и обработанного текста\nprint(encoded_text + '\\n')\nprint(decoded_text)\n",
      "metadata": {
        "trusted": true
      },
      "execution_count": null,
      "outputs": []
    },
    {
      "cell_type": "raw",
      "source": "цтжёжткм гтвхп урщкпкн мтвфщвлъха уфтвъпха куфртка кй мреёв-нкгр пвскувппэч:\n«срунжёпкл щжнрджм пв йжонж укёжн д мропвфж. д ёджтю сруфхщвнкую…»\n\nфредерик браун сочинил кратчайшую страшную историю из когда-либо написанных:\n«последний человек на земле сидел в комнате. в дверь постучались…»",
      "metadata": {}
    },
    {
      "cell_type": "markdown",
      "source": "### Задание №3\n\nДаны три стержня и n дисков различного размера. Диски можно надевать на стержни, образуя из них башни. Перенести n дисков со стержня А на стержень С, сохранив их первоначальный порядок. При переносе дисков необходимо соблюдать следующие правила:\n\n- на каждом шаге со стержня на стержень переносить только один диск;\n- диск нельзя помещать на диск меньшего размера;\n- для промежуточного хранения можно использовать стержень В. Реализовать алгоритм, используя три стека вместо стержней А, В, С. ",
      "metadata": {
        "id": "Wggfn8l7nG72"
      }
    },
    {
      "cell_type": "code",
      "source": "# Перемещение верхнего диска с одного стержня на другой\ndef move_disk(start, end):\n\n    # Генерация строки, визуализирующей состояние стержня (|---)\n    def tower_str(stack) -> str:\n        string = '|'\n        for element in stack.data:\n            string += f'{element}'\n        return string + '-' * (disk_count - len(stack))\n\n    # Фиксация состояний стержней до перемещения\n    old_a, old_b, old_c = tower_str(a), tower_str(b), tower_str(c)\n\n    # Перемещение\n    end.push(start.pop())\n\n    # Вывод шага\n    print()\n    print(f'{old_a}         {tower_str(a)}')\n    print(f'{old_b}   ——>   {tower_str(b)}')\n    print(f'{old_c}         {tower_str(c)}')\n\n# Рекурсивный алгоритм решения задачи\ndef tower_of_hanoi(numbers, start, auxiliary, end):\n    if numbers == 1:\n        move_disk(start, end)\n        return\n    tower_of_hanoi(numbers - 1, start, end, auxiliary)\n    move_disk(start, end)\n    tower_of_hanoi(numbers - 1, auxiliary, start, end)\n\n# Создание стержней и ввод дисков\na, b, c = Stack(), Stack(), Stack()\ndisk_count = int(input('Введите количество дисков: '))\nfor i in range(disk_count):\n    a.push(disk_count - i)\n\n# Запуск алгоритма\ntower_of_hanoi(disk_count, a, b, c)\n",
      "metadata": {
        "trusted": true
      },
      "execution_count": null,
      "outputs": []
    },
    {
      "cell_type": "raw",
      "source": "Введите количество дисков: 3\n\n|321         |32-\n|---   ——>   |---\n|---         |1--\n\n|32-         |3--\n|---   ——>   |2--\n|1--         |1--\n\n|3--         |3--\n|2--   ——>   |21-\n|1--         |---\n\n|3--         |---\n|21-   ——>   |21-\n|---         |3--\n\n|---         |1--\n|21-   ——>   |2--\n|3--         |3--\n\n|1--         |1--\n|2--   ——>   |---\n|3--         |32-\n\n|1--         |---\n|---   ——>   |---\n|32-         |321",
      "metadata": {}
    },
    {
      "cell_type": "markdown",
      "source": "### Задание №4\n\nДан текстовый файл с программой на алгоритмическом языке. За один просмотр файла проверить баланс круглых скобок в тексте, используя стек.",
      "metadata": {
        "id": "Wggfn8l7nG72"
      }
    },
    {
      "cell_type": "raw",
      "source": "алг корни квадратного уравнения\nвещ а,b,c,d,x1,x2\nнач ввод a,b,c\n  если a=0\n  то   если b=0\n       то   если c=0\n            то вывод [Любое x — решение]\n            иначе вывод [Нет решений]\n            кв\n       иначе x:=-c/b\n            вывод x\n    кв\n  иначе d:=b^2-4ac\n  если d<0\n  то вывод [Нет вещественных корней]\n  иначе x1:=(-b+d^0,5)/(2a); x2:=(-b-d^0,5)/(2a)\n            вывод [x1=],x1,[x2=],x2\n  кв\n  кв\nкон",
      "metadata": {}
    },
    {
      "cell_type": "code",
      "source": "# Проверка баланса круглых скобок\nwith open('lab_4_files/code.txt') as code:\n    stack = Stack()\n    for char in code.read():\n        if char == '(':\n            stack.push('')\n        if char == ')':\n            if stack.is_empty():\n                print('Баланс круглых скобок в файле: False')\n                break\n            stack.pop()\n    else:\n        print(f'Баланс круглых скобок в файле: {stack.is_empty()}')\n",
      "metadata": {
        "trusted": true
      },
      "execution_count": null,
      "outputs": []
    },
    {
      "cell_type": "raw",
      "source": "Баланс круглых скобок в файле: True",
      "metadata": {}
    },
    {
      "cell_type": "markdown",
      "source": "### Задание №5\n\nДан текстовый файл с программой на алгоритмическом языке. За один просмотр файла проверить баланс квадратных скобок в тексте, используя дек.",
      "metadata": {
        "id": "Wggfn8l7nG72"
      }
    },
    {
      "cell_type": "code",
      "source": "# Проверка баланса квадратных скобок\nwith open('lab_4_files/code.txt') as code:\n    deque = Deque()\n    for char in code.read():\n        if char == '[':\n            deque.push('')\n        if char == ']':\n            if deque.is_empty():\n                print('Баланс квадратных скобок в файле: False')\n                break\n            deque.pop()\n    else:\n        print(f'Баланс квадратных скобок в файле: {deque.is_empty()}')\n",
      "metadata": {
        "trusted": true
      },
      "execution_count": null,
      "outputs": []
    },
    {
      "cell_type": "raw",
      "source": "Баланс квадратных скобок в файле: True",
      "metadata": {}
    },
    {
      "cell_type": "markdown",
      "source": "### Задание №6\n\nДан файл из символов. Используя стек, за один просмотр файла напечатать сначала все цифры, затем все буквы, и, наконец, все остальные символы, сохраняя исходный порядок в каждой группе символов.",
      "metadata": {
        "id": "Wggfn8l7nG72"
      }
    },
    {
      "cell_type": "code",
      "source": "digits, letters, others = Stack(), Stack(), Stack()\n\n# Наполнение стеков\nwith open('lab_4_files/code.txt') as code:\n    for char in code.read():\n        if char.isdigit():\n            digits.push(char.rstrip())\n        elif char.isalpha():\n            letters.push(char.rstrip())          \n        elif char.rstrip() != '':\n            others.push(char.rstrip())\n\n# Алгоритм обратного вывода\ndef stack_str(stack) -> str:\n    output = ''\n    while not stack.is_empty():\n        output = stack.pop() + output\n    return output\n\n# Вывод стеков\nprint(f'{stack_str(digits)}\\n')\nprint(f'{stack_str(letters)}\\n')\nprint(f'{stack_str(others)}')",
      "metadata": {
        "trusted": true
      },
      "execution_count": null,
      "outputs": []
    },
    {
      "cell_type": "raw",
      "source": "12000240105220521122\n\nалгкорниквадратногоуравнениявещаbcdxxначвводabcеслиaтоеслиbтоеслиcтовыводЛюбоеxрешениеиначевыводНетрешенийквиначеxcbвыводxквиначеdbacеслиdтовыводНетвещественныхкорнейиначеxbdaxbdaвыводxxxxквквкон\n\n,,,,,,,===[—][]:=-/:=^-<[]:=(-+^,)/();:=(--^,)/()[=],,[=],\n",
      "metadata": {}
    },
    {
      "cell_type": "markdown",
      "source": "### Задание №7\n\nДан файл из целых чисел. Используя дек, за один просмотр файла напечатать сначала все отрицательные числа, затем все положительные числа, сохраняя исходный порядок в каждой группе.",
      "metadata": {
        "id": "Wggfn8l7nG72"
      }
    },
    {
      "cell_type": "code",
      "source": "deque = Deque()\n\n# Запись отрицательных чисел в начало, а положительных в конец\nwith open('lab_4_files/numbers.txt') as numbers:\n    for number in numbers:\n        print(number.rstrip(), end=' ')\n        if int(number) < 0:\n            deque.push_left(number.rstrip())\n        else:\n            deque.push(number.rstrip())\n    print('\\n')\n\n# 'Выворачивание' дека, чтобы вывод был в оригинальной последовательности\nwhile not int(deque.peek()) < 0:\n    deque.push_left(deque.pop())\n\n# Вывод отрицательных чисел\nwhile int(deque.peek()) < 0:\n    print(deque.pop(), end=' ')\nprint()\n\n# Вывод положительных чисел\nwhile not deque.is_empty():\n    print(deque.pop_left(), end=' ')\nprint()\n",
      "metadata": {
        "trusted": true
      },
      "execution_count": null,
      "outputs": []
    },
    {
      "cell_type": "raw",
      "source": "-20 42 21 38 -12 842 82 -573 -8122 932 -93 -12 485 232 1 \n\n-20 -12 -573 -8122 -93 -12 \n42 21 38 842 82 932 485 232 1 ",
      "metadata": {}
    },
    {
      "cell_type": "markdown",
      "source": "### Задание №8\n\nДан текстовый файл. Используя стек, сформировать новый текстовый файл, содержащий строки исходного файла, записанные в обратном порядке: первая строка становится последней, вторая – предпоследней и т.д.",
      "metadata": {
        "id": "Wggfn8l7nG72"
      }
    },
    {
      "cell_type": "code",
      "source": "# Чтение и вывод изначального варианта\nstack = Stack()\nwith open('lab_4_files/books.txt') as books:\n    for book in books:\n        print(book.rstrip())\n        stack.push(book)\n\nprint('🔄')\n\n# Запись и вывод перевернутого варианта\nwith open('lab_4_files/reversed_books.txt', 'w') as reversed_books:\n    while not stack.is_empty():\n        print(stack.peek().rstrip())\n        reversed_books.write(stack.pop())\n",
      "metadata": {
        "trusted": true
      },
      "execution_count": null,
      "outputs": []
    },
    {
      "cell_type": "raw",
      "source": "Волчья тропа\nБорщевой конвой\nДневной ужин\nГлавный генерал\nАрбузные острова\n🔄\nАрбузные острова\nГлавный генерал\nДневной ужин\nБорщевой конвой\nВолчья тропа",
      "metadata": {}
    }
  ]
}